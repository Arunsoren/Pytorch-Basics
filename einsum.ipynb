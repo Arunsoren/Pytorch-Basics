{
 "cells": [
  {
   "cell_type": "markdown",
   "metadata": {},
   "source": [
    "#EINSUM\n",
    "\n",
    "There's a good chance that einsum will help us do this faster and more memory-efficiently than combinations of the NumPy functions like multiply, sum and transpose will allow.\n",
    "\n",
    "good ans also: stackoverflow.com/questions/26089893/understanding-numpys-einsum"
   ]
  },
  {
   "cell_type": "code",
   "execution_count": 1,
   "metadata": {},
   "outputs": [],
   "source": [
    "import numpy as np"
   ]
  },
  {
   "cell_type": "code",
   "execution_count": 2,
   "metadata": {},
   "outputs": [
    {
     "name": "stdout",
     "output_type": "stream",
     "text": [
      "[[0.49689075 0.56191633 0.10562608 0.84793775 0.29310636]\n",
      " [0.58965569 0.03805157 0.86491844 0.48495865 0.14606506]\n",
      " [0.46341741 0.14306762 0.62983255 0.09266492 0.62176348]]\n"
     ]
    }
   ],
   "source": [
    "#matrix values\n",
    "A = np.random.rand(3,5)\n",
    "B = np.random.rand(5,2)\n",
    "M = np.empty((3, 2))\n",
    "print(A)"
   ]
  },
  {
   "cell_type": "code",
   "execution_count": 3,
   "metadata": {},
   "outputs": [
    {
     "name": "stdout",
     "output_type": "stream",
     "text": [
      "0.8343701880687902\n",
      "0.7238498211181833\n",
      "0.9901394361375058\n",
      "0.04901729962776789\n",
      "0.7781623362115598\n",
      "0.18429695885467567\n"
     ]
    }
   ],
   "source": [
    "#Matrix multiplication normal\n",
    "for i in range(3):\n",
    "    for j in range(2):\n",
    "        total = 0\n",
    "        for k in range(5):\n",
    "            total += A[i, j]*B[k,j]\n",
    "\n",
    "        M[i, j] = total\n",
    "        print(M[i,j])"
   ]
  },
  {
   "cell_type": "code",
   "execution_count": 4,
   "metadata": {},
   "outputs": [
    {
     "name": "stdout",
     "output_type": "stream",
     "text": [
      "[[0.67127328 0.4224541 ]\n",
      " [0.8919592  0.52711808]\n",
      " [0.71773782 0.59793132]]\n"
     ]
    }
   ],
   "source": [
    "#einsum Multiplication\n",
    "N = np.einsum('ik, kj->ij', A, B)   \n",
    "# i,j :free indices(specified in the output) \n",
    "# K :summation index(input but not in the output)\n",
    "print(N)"
   ]
  },
  {
   "cell_type": "code",
   "execution_count": 8,
   "metadata": {},
   "outputs": [
    {
     "name": "stdout",
     "output_type": "stream",
     "text": [
      "[[0.01083832 0.35710684 0.02367074]\n",
      " [0.00432432 0.14248018 0.00944426]\n",
      " [0.0114896  0.37856558 0.02509312]\n",
      " [0.02278255 0.75065186 0.04975677]\n",
      " [0.00974663 0.32113745 0.02128651]]\n"
     ]
    }
   ],
   "source": [
    "#Example 2\n",
    "a = np.random.rand(5)\n",
    "b = np.random.rand(3)\n",
    "outer = np.einsum('i,j->ij', a, b)\n",
    "#no summation index\n",
    "print(outer)"
   ]
  },
  {
   "cell_type": "code",
   "execution_count": 9,
   "metadata": {},
   "outputs": [
    {
     "name": "stdout",
     "output_type": "stream",
     "text": [
      "0.010838317980301559\n",
      "0.35710683677406274\n",
      "0.02367073549110986\n",
      "0.004324323650029015\n",
      "0.14248018397834128\n",
      "0.00944426261379531\n",
      "0.011489598321554426\n",
      "0.3785655781526278\n",
      "0.025093122684064998\n",
      "0.02278254774150259\n",
      "0.7506518605939342\n",
      "0.04975676690634292\n",
      "0.009746634385681845\n",
      "0.32113744780233067\n",
      "0.021286513727622875\n"
     ]
    }
   ],
   "source": [
    "for i in range(5):\n",
    "    for j in range(3):\n",
    "        total = 0\n",
    "        #no sum loop \n",
    "        total+= a[i]*b[j]\n",
    "        outer[i,j] = total\n",
    "        print(outer[i,j])"
   ]
  },
  {
   "cell_type": "markdown",
   "metadata": {},
   "source": [
    "RULER FOR EINSUM:\n",
    "\n",
    "1. Repeating letters in different inputs means those values will be multiplied\n",
    "   and those products will be the output.\n",
    "\n",
    "   M = np.einsum('ik, kj', A, B)\n",
    "\n",
    "2. Omitting a letter means that axis will be summed.\n",
    "   \n",
    "   x = np.ones(3)\n",
    "   sum_x = np.einsum('i->', x)\n",
    "\n",
    "3. We can return the unsummed axes in any order.(reversed output (3,4,5)).\n",
    "\n",
    "   x = np.ones((5, 4, 3))\n",
    "   np.einsum('ijk->kji', x)"
   ]
  },
  {
   "cell_type": "code",
   "execution_count": 10,
   "metadata": {},
   "outputs": [],
   "source": [
    "#pytorch\n",
    "import torch\n",
    "\n",
    "x = torch.rand((2, 3))"
   ]
  },
  {
   "cell_type": "code",
   "execution_count": 11,
   "metadata": {},
   "outputs": [
    {
     "data": {
      "text/plain": [
       "tensor([[0.5908, 0.0256],\n",
       "        [0.4295, 0.9669],\n",
       "        [0.7050, 0.4145]])"
      ]
     },
     "execution_count": 11,
     "metadata": {},
     "output_type": "execute_result"
    }
   ],
   "source": [
    "# Permutation of Tensors\n",
    "torch.einsum(\"ij->ji\", x)"
   ]
  },
  {
   "cell_type": "code",
   "execution_count": 12,
   "metadata": {},
   "outputs": [
    {
     "data": {
      "text/plain": [
       "tensor(3.1322)"
      ]
     },
     "execution_count": 12,
     "metadata": {},
     "output_type": "execute_result"
    }
   ],
   "source": [
    "# Summation\n",
    "torch.einsum(\"ij->\", x)"
   ]
  },
  {
   "cell_type": "code",
   "execution_count": 13,
   "metadata": {},
   "outputs": [
    {
     "data": {
      "text/plain": [
       "tensor([0.6164, 1.3963, 1.1195])"
      ]
     },
     "execution_count": 13,
     "metadata": {},
     "output_type": "execute_result"
    }
   ],
   "source": [
    "# Column Sum\n",
    "torch.einsum(\"ij->j\", x)"
   ]
  },
  {
   "cell_type": "code",
   "execution_count": 14,
   "metadata": {},
   "outputs": [
    {
     "data": {
      "text/plain": [
       "tensor([1.7253, 1.4070])"
      ]
     },
     "execution_count": 14,
     "metadata": {},
     "output_type": "execute_result"
    }
   ],
   "source": [
    "# Row sum\n",
    "torch.einsum(\"ij->i\", x)"
   ]
  },
  {
   "cell_type": "code",
   "execution_count": 15,
   "metadata": {},
   "outputs": [
    {
     "data": {
      "text/plain": [
       "tensor([[0.9600],\n",
       "        [0.7298]])"
      ]
     },
     "execution_count": 15,
     "metadata": {},
     "output_type": "execute_result"
    }
   ],
   "source": [
    "# Matrix-Vector Multiplication\n",
    "v = torch.rand((1,3))\n",
    "torch.einsum(\"ij, kj->ik\", x, v)  #no reshaping needed"
   ]
  },
  {
   "cell_type": "code",
   "execution_count": 16,
   "metadata": {},
   "outputs": [
    {
     "data": {
      "text/plain": [
       "tensor([[1.0305, 0.7226],\n",
       "        [0.7226, 1.1073]])"
      ]
     },
     "execution_count": 16,
     "metadata": {},
     "output_type": "execute_result"
    }
   ],
   "source": [
    "\n",
    "# Matrix-Matrix Multiplication\n",
    "torch.einsum(\"ij, kj->ik\", x, x)  #2x2 : 2x3 X 3x2"
   ]
  },
  {
   "cell_type": "code",
   "execution_count": 17,
   "metadata": {},
   "outputs": [
    {
     "data": {
      "text/plain": [
       "tensor(1.0305)"
      ]
     },
     "execution_count": 17,
     "metadata": {},
     "output_type": "execute_result"
    }
   ],
   "source": [
    "# Dot product first row with first row of Matrix\n",
    "torch.einsum(\"i,i ->\", x[0], x[0])"
   ]
  },
  {
   "cell_type": "code",
   "execution_count": 18,
   "metadata": {},
   "outputs": [
    {
     "data": {
      "text/plain": [
       "tensor(2.1378)"
      ]
     },
     "execution_count": 18,
     "metadata": {},
     "output_type": "execute_result"
    }
   ],
   "source": [
    "\n",
    "# Dot product with Matrix\n",
    "torch.einsum(\"ij, ij->\", x, x)"
   ]
  },
  {
   "cell_type": "code",
   "execution_count": 19,
   "metadata": {},
   "outputs": [
    {
     "data": {
      "text/plain": [
       "tensor([[3.4907e-01, 1.8443e-01, 4.9700e-01],\n",
       "        [6.5352e-04, 9.3482e-01, 1.7185e-01]])"
      ]
     },
     "execution_count": 19,
     "metadata": {},
     "output_type": "execute_result"
    }
   ],
   "source": [
    "# Hadamard Product (element wise Multiplication)\n",
    "torch.einsum(\"ij,ij->ij\", x, x)"
   ]
  },
  {
   "cell_type": "code",
   "execution_count": 20,
   "metadata": {},
   "outputs": [
    {
     "data": {
      "text/plain": [
       "tensor([[0.3319, 0.1552, 0.0116, 0.2914, 0.1100],\n",
       "        [0.4526, 0.2116, 0.0159, 0.3974, 0.1500],\n",
       "        [0.0875, 0.0409, 0.0031, 0.0768, 0.0290]])"
      ]
     },
     "execution_count": 20,
     "metadata": {},
     "output_type": "execute_result"
    }
   ],
   "source": [
    "# Outer product\n",
    "a = torch.rand((3))\n",
    "b = torch.rand((5))\n",
    "torch.einsum(\"i, j->ij\", a, b)"
   ]
  },
  {
   "cell_type": "code",
   "execution_count": 21,
   "metadata": {},
   "outputs": [
    {
     "data": {
      "text/plain": [
       "tensor([[[1.3452, 1.8237, 2.2880],\n",
       "         [1.0043, 1.1377, 1.1133]],\n",
       "\n",
       "        [[1.7027, 2.0008, 1.4459],\n",
       "         [1.5870, 1.8057, 1.7491]],\n",
       "\n",
       "        [[1.9639, 1.5182, 1.4187],\n",
       "         [1.9054, 1.5489, 1.4941]]])"
      ]
     },
     "execution_count": 21,
     "metadata": {},
     "output_type": "execute_result"
    }
   ],
   "source": [
    "# Batch Matrix Multiplication\n",
    "a = torch.rand((3, 2, 5))\n",
    "b = torch.rand((3, 5, 3))\n",
    "torch.einsum(\"ijk, ikl->ijl\", a, b)"
   ]
  },
  {
   "cell_type": "code",
   "execution_count": 22,
   "metadata": {},
   "outputs": [
    {
     "data": {
      "text/plain": [
       "tensor([0.9214, 0.3435, 0.7485])"
      ]
     },
     "execution_count": 22,
     "metadata": {},
     "output_type": "execute_result"
    }
   ],
   "source": [
    "#Matrix Diagonal\n",
    "x  = torch.rand((3,3))\n",
    "torch.einsum(\"ii->i\", x)"
   ]
  },
  {
   "cell_type": "code",
   "execution_count": 23,
   "metadata": {},
   "outputs": [
    {
     "data": {
      "text/plain": [
       "tensor(2.0135)"
      ]
     },
     "execution_count": 23,
     "metadata": {},
     "output_type": "execute_result"
    }
   ],
   "source": [
    "# Matrix Trace (Sum of the Diagonal)\n",
    "torch.einsum(\"ii->\", x)"
   ]
  },
  {
   "cell_type": "code",
   "execution_count": null,
   "metadata": {},
   "outputs": [],
   "source": []
  }
 ],
 "metadata": {
  "interpreter": {
   "hash": "4f70e6d688a45095d61457b4d09636a28b3c47e26b0acf96e1a315d8d5248cf7"
  },
  "kernelspec": {
   "display_name": "Python 3.9.7 64-bit",
   "language": "python",
   "name": "python3"
  },
  "language_info": {
   "codemirror_mode": {
    "name": "ipython",
    "version": 3
   },
   "file_extension": ".py",
   "mimetype": "text/x-python",
   "name": "python",
   "nbconvert_exporter": "python",
   "pygments_lexer": "ipython3",
   "version": "3.9.7"
  },
  "orig_nbformat": 4
 },
 "nbformat": 4,
 "nbformat_minor": 2
}
